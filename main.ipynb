{
 "cells": [
  {
   "cell_type": "code",
   "execution_count": null,
   "id": "35cbdb3c",
   "metadata": {},
   "outputs": [],
   "source": [
    "import numpy as np\n",
    "import pandas as pd\n",
    "import matplotlib.pyplot as plt\n",
    "from sklearn.preprocessing import MinMaxScaler\n",
    "from sklearn.model_selection import train_test_split\n",
    "from tensorflow.keras.models import Sequential\n",
    "from tensorflow.keras.layers import Dense\n",
    "import random"
   ]
  },
  {
   "cell_type": "code",
   "execution_count": null,
   "id": "b09288b7",
   "metadata": {},
   "outputs": [],
   "source": [
    "file_path = 'data.csv'\n",
    "df = pd.read_csv(file_path)"
   ]
  },
  {
   "cell_type": "code",
   "execution_count": null,
   "id": "8ef0704a",
   "metadata": {},
   "outputs": [],
   "source": [
    "X = df[['Speed', 'Feed', 'DOC']].values\n",
    "y = df[['SR', 'MRR']].values"
   ]
  },
  {
   "cell_type": "code",
   "execution_count": null,
   "id": "fb19e3a5",
   "metadata": {},
   "outputs": [],
   "source": [
    "x_scaler = MinMaxScaler()\n",
    "y_scaler = MinMaxScaler()\n",
    "X_scaled = x_scaler.fit_transform(X)\n",
    "y_scaled = y_scaler.fit_transform(y)\n",
    "\n",
    "X_train, X_test, y_train, y_test = train_test_split(X_scaled, y_scaled, test_size=0.2, random_state=42)"
   ]
  },
  {
   "cell_type": "code",
   "execution_count": null,
   "id": "5e4f1c7d",
   "metadata": {},
   "outputs": [],
   "source": [
    "def create_ann_model():\n",
    "    model = Sequential()\n",
    "    model.add(Dense(6, input_dim=3, activation='tanh'))\n",
    "    model.add(Dense(2, activation='linear'))\n",
    "    model.compile(loss='mean_squared_error', optimizer='adam')\n",
    "    return model"
   ]
  },
  {
   "cell_type": "code",
   "execution_count": null,
   "id": "f8f40b50",
   "metadata": {},
   "outputs": [],
   "source": [
    "ann_model = create_ann_model()\n",
    "history = ann_model.fit(X_train, y_train, epochs=100, batch_size=5, verbose=0, validation_data=(X_test, y_test))"
   ]
  },
  {
   "cell_type": "code",
   "execution_count": null,
   "id": "a7d2e842",
   "metadata": {},
   "outputs": [],
   "source": [
    "y_pred = ann_model.predict(X_test)\n",
    "mse = np.mean((y_pred - y_test)**2)\n",
    "print(f\"Mean Squared Error trên tập kiểm tra: {mse:.6f}\")"
   ]
  },
  {
   "cell_type": "code",
   "execution_count": null,
   "id": "4d676574",
   "metadata": {},
   "outputs": [],
   "source": [
    "def create_individual(self):\n",
    "    return [\n",
    "        round(random.uniform(self.param_ranges['Speed'][0], self.param_ranges['Speed'][1]), 0),\n",
    "        round(random.uniform(self.param_ranges['Feed'][0], self.param_ranges['Feed'][1]), 2),\n",
    "        round(random.uniform(self.param_ranges['DOC'][0], self.param_ranges['DOC'][1]), 2)\n",
    "    ]"
   ]
  },
  {
   "cell_type": "code",
   "execution_count": null,
   "id": "6b7ac092",
   "metadata": {},
   "outputs": [],
   "source": [
    "def predict_outputs(self, individual):\n",
    "    x_normalized = self.scaler_x.transform([individual])\n",
    "    y_normalized = self.model.predict(x_normalized, verbose=0)\n",
    "    y_actual = self.scaler_y.inverse_transform(y_normalized)\n",
    "    return y_actual[0]"
   ]
  },
  {
   "cell_type": "code",
   "execution_count": null,
   "id": "15674402",
   "metadata": {},
   "outputs": [],
   "source": [
    "def fitness(self, individual, bias=0.5):\n",
    "    sr, mrr = self.predict_outputs(individual)\n",
    "    norm_sr = (max_sr - sr) / (max_sr - min_sr)  # Đảo ngược vì SR cần tối thiểu\n",
    "    norm_mrr = (mrr - min_mrr) / (max_mrr - min_mrr)\n",
    "    fitness_value = bias * norm_sr + (1 - bias) * norm_mrr\n",
    "    return fitness_value"
   ]
  },
  {
   "cell_type": "code",
   "execution_count": null,
   "id": "9ec6581f",
   "metadata": {},
   "outputs": [],
   "source": [
    "best_individual, best_sr, best_mrr, best_fitness = ga.optimize(bias)"
   ]
  },
  {
   "cell_type": "code",
   "execution_count": null,
   "id": "7b1218ee",
   "metadata": {},
   "outputs": [],
   "source": [
    "bias_values = {\n",
    "    \"100% bias cho SR\": 1.0,\n",
    "    \"75% bias cho SR\": 0.75,\n",
    "    \"50% bias (cân bằng)\": 0.5,\n",
    "    \"25% bias cho SR\": 0.25,\n",
    "    \"0% bias cho SR\": 0.0,\n",
    "}"
   ]
  }
 ],
 "metadata": {
  "kernelspec": {
   "display_name": "env",
   "language": "python",
   "name": "python3"
  },
  "language_info": {
   "name": "python",
   "version": "3.9.6"
  }
 },
 "nbformat": 4,
 "nbformat_minor": 5
}
